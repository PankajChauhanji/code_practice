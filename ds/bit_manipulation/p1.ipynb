{
 "cells": [
  {
   "cell_type": "code",
   "execution_count": 6,
   "metadata": {},
   "outputs": [],
   "source": [
    "def is_prime(num):\n",
    "    if num<2:\n",
    "        return False\n",
    "    for n in range(2, num-1):\n",
    "        if num%n==0:\n",
    "            return False\n",
    "    return True"
   ]
  },
  {
   "cell_type": "code",
   "execution_count": 7,
   "metadata": {},
   "outputs": [
    {
     "name": "stdout",
     "output_type": "stream",
     "text": [
      "(0, False)\n",
      "(1, False)\n",
      "(2, True)\n",
      "(3, True)\n",
      "(4, False)\n",
      "(5, True)\n",
      "(6, False)\n",
      "(7, True)\n",
      "(8, False)\n",
      "(9, False)\n",
      "(10, False)\n",
      "(11, True)\n",
      "(12, False)\n",
      "(13, True)\n",
      "(14, False)\n",
      "(15, False)\n",
      "(16, False)\n",
      "(17, True)\n",
      "(18, False)\n",
      "(19, True)\n",
      "(20, False)\n",
      "(21, False)\n",
      "(22, False)\n",
      "(23, True)\n",
      "(24, False)\n",
      "(25, False)\n",
      "(26, False)\n",
      "(27, False)\n",
      "(28, False)\n",
      "(29, True)\n"
     ]
    }
   ],
   "source": [
    "for i in range(30):\n",
    "    print((i, is_prime(i)))"
   ]
  },
  {
   "cell_type": "code",
   "execution_count": null,
   "metadata": {},
   "outputs": [],
   "source": [
    "def find_lcm(num_list):\n",
    "    for prime_num in range(2, max(num_list)+1):\n",
    "        is_prime_num = is_prime(prime_num)\n",
    "        if is_prime:\n",
    "            for indx in range(len(num_list)):\n",
    "        \n"
   ]
  },
  {
   "cell_type": "code",
   "execution_count": 21,
   "metadata": {},
   "outputs": [
    {
     "data": {
      "text/plain": [
       "80"
      ]
     },
     "execution_count": 21,
     "metadata": {},
     "output_type": "execute_result"
    }
   ],
   "source": [
    "import math\n",
    "def shortest_distance(x1, y1, x2, y2):\n",
    "    return abs((y2-y1)**2 + (x2-x1)**2)\n",
    "\n",
    "shortest_distance(7, 9, -1, 5)"
   ]
  },
  {
   "cell_type": "code",
   "execution_count": 17,
   "metadata": {},
   "outputs": [
    {
     "data": {
      "text/plain": [
       "0"
      ]
     },
     "execution_count": 17,
     "metadata": {},
     "output_type": "execute_result"
    }
   ],
   "source": []
  },
  {
   "cell_type": "code",
   "execution_count": null,
   "metadata": {},
   "outputs": [],
   "source": []
  }
 ],
 "metadata": {
  "kernelspec": {
   "display_name": "Python 3",
   "language": "python",
   "name": "python3"
  },
  "language_info": {
   "codemirror_mode": {
    "name": "ipython",
    "version": 3
   },
   "file_extension": ".py",
   "mimetype": "text/x-python",
   "name": "python",
   "nbconvert_exporter": "python",
   "pygments_lexer": "ipython3",
   "version": "3.10.12"
  }
 },
 "nbformat": 4,
 "nbformat_minor": 2
}
