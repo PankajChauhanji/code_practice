{
 "cells": [
  {
   "cell_type": "code",
   "execution_count": 1,
   "metadata": {},
   "outputs": [],
   "source": [
    "class Node:\n",
    "    def __init__(self, data=\"\") -> None:\n",
    "        self.next = None\n",
    "        self.data = data"
   ]
  },
  {
   "cell_type": "code",
   "execution_count": 22,
   "metadata": {},
   "outputs": [],
   "source": [
    "class LList():\n",
    "    def __init__(self) -> None:\n",
    "        self.head = None\n",
    "        \n",
    "    def insert_llist(self, data):\n",
    "        # create a node.\n",
    "        node = Node(data=data)\n",
    "        temp_ptr = self.head\n",
    "        if not self.head:\n",
    "            self.head = node\n",
    "        else:\n",
    "            # iterate on temp_ptr and assign our node when temp_ptr is pointing to null.\n",
    "            while temp_ptr.next:\n",
    "                temp_ptr = temp_ptr.next\n",
    "            temp_ptr.next = node\n",
    "    \n",
    "    def print_llist(self):\n",
    "        temp_node = self.head\n",
    "        while temp_node:\n",
    "            print(temp_node.data, end=' ')\n",
    "            temp_node = temp_node.next\n",
    "        print()\n",
    "    \n",
    "    def search(self, search_key):\n",
    "        temp_node = self.head\n",
    "        while temp_node:\n",
    "            if temp_node.data == search_key:\n",
    "                print('Node found ', temp_node.data)\n",
    "                return temp_node\n",
    "            temp_node = temp_node.next\n",
    "        print('Not Found: ')\n",
    "\n",
    "    def insert_start(self, data):\n",
    "        # create a node.\n",
    "        node = Node(data=data)\n",
    "        node.next = self.head\n",
    "        self.head = node\n",
    "\n",
    "    def reverse_list(self):\n",
    "        prev = None\n",
    "        curr = self.head\n",
    "        nxt = self.head\n",
    "        print(\"reversed llist\")\n",
    "        while curr:\n",
    "            nxt = curr.next\n",
    "            curr.next = prev\n",
    "            prev = curr\n",
    "            curr = nxt\n",
    "        self.head = prev\n",
    "    \n",
    "    def reverse_list_recursion(self, node):\n",
    "        # Base case: If the list is empty or has reached the last node\n",
    "        if node is None or node.next is None:\n",
    "            self.head = node\n",
    "            return node\n",
    "        \n",
    "        # Recursively reverse the rest of the list\n",
    "        reversed_list = self.reverse_list_recursion(node.next)\n",
    "        \n",
    "        # Reverse the current node's next pointer\n",
    "        node.next.next = node\n",
    "        node.next = None\n",
    "        \n",
    "        return reversed_list\n",
    "\n"
   ]
  },
  {
   "cell_type": "code",
   "execution_count": null,
   "metadata": {},
   "outputs": [],
   "source": []
  },
  {
   "cell_type": "code",
   "execution_count": 23,
   "metadata": {},
   "outputs": [
    {
     "name": "stdout",
     "output_type": "stream",
     "text": [
      "1 4 7 9 \n",
      "20 1 4 7 9 \n",
      "reversed llist\n",
      "9 7 4 1 20 \n",
      "reversed llist\n",
      "20 1 4 7 9 \n",
      "9 7 4 1 20 \n"
     ]
    }
   ],
   "source": [
    "ll = LList()\n",
    "ll.insert_llist(1)\n",
    "ll.insert_llist(4)\n",
    "ll.insert_llist(7)\n",
    "ll.insert_llist(9)\n",
    "ll.print_llist()\n",
    "ll.insert_start(20)\n",
    "ll.print_llist()\n",
    "ll.reverse_list()\n",
    "ll.print_llist()\n",
    "ll.reverse_list()\n",
    "ll.print_llist()\n",
    "ll.reverse_list_recursion(ll.head)\n",
    "ll.print_llist()"
   ]
  },
  {
   "cell_type": "code",
   "execution_count": 25,
   "metadata": {},
   "outputs": [
    {
     "name": "stdout",
     "output_type": "stream",
     "text": [
      "Not Found: \n"
     ]
    }
   ],
   "source": [
    "ll.search(10)"
   ]
  },
  {
   "cell_type": "code",
   "execution_count": 21,
   "metadata": {},
   "outputs": [
    {
     "data": {
      "text/plain": [
       "9"
      ]
     },
     "execution_count": 21,
     "metadata": {},
     "output_type": "execute_result"
    }
   ],
   "source": [
    "ll.head.data"
   ]
  },
  {
   "cell_type": "code",
   "execution_count": 37,
   "metadata": {},
   "outputs": [],
   "source": [
    "class DNode:\n",
    "    def __init__(self, data=\"\") -> None:\n",
    "        self.next = None\n",
    "        self.data = data\n",
    "        self.prev = None"
   ]
  },
  {
   "cell_type": "code",
   "execution_count": 47,
   "metadata": {},
   "outputs": [],
   "source": [
    "class DLList():\n",
    "    def __init__(self) -> None:\n",
    "        self.head = None\n",
    "        self.tail = None\n",
    "        \n",
    "    def insert_dllist(self, data):\n",
    "        # create a node.\n",
    "        node = DNode(data=data)\n",
    "        if not self.head:\n",
    "            self.tail = node = self.head = node\n",
    "        else:\n",
    "            self.tail.next = node\n",
    "            node.prev = self.tail\n",
    "            self.tail = node\n",
    "    \n",
    "    def print_dllist(self):\n",
    "        temp_node = self.head\n",
    "        while temp_node:\n",
    "            print(temp_node.data, end=' ')\n",
    "            temp_node = temp_node.next\n",
    "    \n",
    "    def print_dllist_reverse(self):\n",
    "        temp_node = self.tail\n",
    "        while temp_node:\n",
    "            print(temp_node.data, end=' ')\n",
    "            temp_node = temp_node.prev\n",
    "    \n",
    "    def search(self, search_key):\n",
    "        temp_node = self.head\n",
    "        while temp_node:\n",
    "            if temp_node.data == search_key:\n",
    "                print('Node found ', temp_node.data)\n",
    "                return temp_node\n",
    "            temp_node = temp_node.next\n",
    "        print('Not Found: ')\n",
    "\n",
    "    def insert_start(self, data):\n",
    "        # create a node.\n",
    "        node = DNode(data=data)\n",
    "        self.head.prev = node\n",
    "        node.next = self.head\n",
    "        self.head = node"
   ]
  },
  {
   "cell_type": "code",
   "execution_count": 48,
   "metadata": {},
   "outputs": [
    {
     "name": "stdout",
     "output_type": "stream",
     "text": [
      "1 4 7 9 \n",
      " 2\n",
      "20 1 4 7 9 \n",
      "9 7 4 1 20 \n",
      " 3\n"
     ]
    }
   ],
   "source": [
    "ll = DLList()\n",
    "ll.insert_dllist(1)\n",
    "ll.insert_dllist(4)\n",
    "ll.insert_dllist(7)\n",
    "ll.insert_dllist(9)\n",
    "ll.print_dllist()\n",
    "ll.insert_start(20)\n",
    "ll.print_dllist()\n",
    "print()\n",
    "ll.print_dllist_reverse()"
   ]
  },
  {
   "cell_type": "code",
   "execution_count": null,
   "metadata": {},
   "outputs": [],
   "source": []
  }
 ],
 "metadata": {
  "kernelspec": {
   "display_name": "Python 3",
   "language": "python",
   "name": "python3"
  },
  "language_info": {
   "codemirror_mode": {
    "name": "ipython",
    "version": 3
   },
   "file_extension": ".py",
   "mimetype": "text/x-python",
   "name": "python",
   "nbconvert_exporter": "python",
   "pygments_lexer": "ipython3",
   "version": "3.10.12"
  }
 },
 "nbformat": 4,
 "nbformat_minor": 2
}
