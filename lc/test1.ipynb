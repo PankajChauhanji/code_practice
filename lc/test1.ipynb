{
 "cells": [
  {
   "cell_type": "code",
   "execution_count": 25,
   "metadata": {},
   "outputs": [],
   "source": [
    "\n",
    "def canPlaceFlowers(flowerbed, n: int) -> bool:\n",
    "    for indx in range(len(flowerbed)):\n",
    "        prev = flowerbed[indx-1] if indx > 0 else 0\n",
    "        curr = flowerbed[indx]\n",
    "        nxt = flowerbed[indx+1] if indx < len(flowerbed)-1 else 0\n",
    "        \n",
    "        if indx == 0 and not curr and not nxt:\n",
    "            flowerbed[indx] = 1\n",
    "            n -= 1\n",
    "        \n",
    "        elif indx == len(flowerbed)-1 and not curr and not prev:\n",
    "            flowerbed[indx] = 1\n",
    "            n -= 1\n",
    "        \n",
    "        elif not curr and not prev and not nxt:\n",
    "            flowerbed[indx] = 1\n",
    "            n -= 1\n",
    "        \n",
    "        if n <= 0:\n",
    "            return True\n",
    "    \n",
    "    return False\n"
   ]
  },
  {
   "cell_type": "code",
   "execution_count": 26,
   "metadata": {},
   "outputs": [
    {
     "data": {
      "text/plain": [
       "False"
      ]
     },
     "execution_count": 26,
     "metadata": {},
     "output_type": "execute_result"
    }
   ],
   "source": [
    "f = [1,0,0,0,1]\n",
    "n = 2\n",
    "canPlaceFlowers(f, n)"
   ]
  },
  {
   "cell_type": "code",
   "execution_count": 27,
   "metadata": {},
   "outputs": [
    {
     "ename": "SyntaxError",
     "evalue": "invalid syntax. Perhaps you forgot a comma? (1014676566.py, line 1)",
     "output_type": "error",
     "traceback": [
      "\u001b[0;36m  Cell \u001b[0;32mIn[27], line 1\u001b[0;36m\u001b[0m\n\u001b[0;31m    (ed(et(oc))el)\u001b[0m\n\u001b[0m     ^\u001b[0m\n\u001b[0;31mSyntaxError\u001b[0m\u001b[0;31m:\u001b[0m invalid syntax. Perhaps you forgot a comma?\n"
     ]
    }
   ],
   "source": [
    "(ed(et(oc))el)\n",
    "(ed(etco)el)\n",
    "(edocteel)\n",
    "(edocteel, leetcode)"
   ]
  },
  {
   "cell_type": "code",
   "execution_count": 49,
   "metadata": {},
   "outputs": [
    {
     "data": {
      "text/plain": [
       "'leetcode'"
      ]
     },
     "execution_count": 49,
     "metadata": {},
     "output_type": "execute_result"
    }
   ],
   "source": [
    "def reverse_sublist(lst, i, j):\n",
    "    while i < j:\n",
    "        lst[i], lst[j] = lst[j], lst[i]\n",
    "        i += 1\n",
    "        j -= 1\n",
    "    return lst\n",
    "\n",
    "def findPosition(s, strt, end):\n",
    "    # find first bracket\n",
    "    found = False\n",
    "    for indx in range(strt, end):\n",
    "        if not 97 <= ord(s[indx]) <= 122 and s[indx]:\n",
    "            strt = indx\n",
    "            found = True\n",
    "            break\n",
    "    for indx in range(end, strt, -1):\n",
    "        if not 97 <= ord(s[indx]) <= 122 and s[indx]:\n",
    "            end = indx\n",
    "            break\n",
    "    return strt, end, found\n",
    "\n",
    "def findResult(s):\n",
    "    s = list(s)\n",
    "    strt = -1; end = len(s)\n",
    "    found = True\n",
    "    while found:\n",
    "        strt, end, found = findPosition(s, strt+1, end-1)\n",
    "        if not found:\n",
    "            return ''.join(s)\n",
    "        else:\n",
    "            s[strt] = s[end] = ''\n",
    "            s = reverse_sublist(s, strt+1, end-1)\n",
    "    return ''.join(s)\n",
    "\n",
    "s = '(ed(et(oc))el)'\n",
    "findResult(s)"
   ]
  },
  {
   "cell_type": "code",
   "execution_count": 54,
   "metadata": {},
   "outputs": [],
   "source": [
    "class Solution:\n",
    "    def reverseParentheses(self, s: str) -> str:\n",
    "        stack = []\n",
    "        curr = []\n",
    "        \n",
    "        for char in s:\n",
    "            if char == '(':\n",
    "                stack.append(curr)\n",
    "                curr = []\n",
    "            elif char == ')':\n",
    "                curr = stack.pop() + curr[::-1]\n",
    "            else:\n",
    "                curr.append(char)\n",
    "        \n",
    "        return ''.join(curr)\n"
   ]
  },
  {
   "cell_type": "code",
   "execution_count": 55,
   "metadata": {},
   "outputs": [
    {
     "data": {
      "text/plain": [
       "'leetcode'"
      ]
     },
     "execution_count": 55,
     "metadata": {},
     "output_type": "execute_result"
    }
   ],
   "source": [
    "s = '(ed(et(oc))el)'\n",
    "# findResult(s)\n",
    "k = Solution()\n",
    "k.reverseParentheses(s)"
   ]
  },
  {
   "cell_type": "code",
   "execution_count": null,
   "metadata": {},
   "outputs": [],
   "source": []
  }
 ],
 "metadata": {
  "kernelspec": {
   "display_name": "env_prac",
   "language": "python",
   "name": "python3"
  },
  "language_info": {
   "codemirror_mode": {
    "name": "ipython",
    "version": 3
   },
   "file_extension": ".py",
   "mimetype": "text/x-python",
   "name": "python",
   "nbconvert_exporter": "python",
   "pygments_lexer": "ipython3",
   "version": "3.10.12"
  }
 },
 "nbformat": 4,
 "nbformat_minor": 2
}
