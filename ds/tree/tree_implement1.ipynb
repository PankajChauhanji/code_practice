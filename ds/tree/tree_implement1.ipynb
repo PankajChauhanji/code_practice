{
 "cells": [
  {
   "cell_type": "code",
   "execution_count": 3,
   "metadata": {},
   "outputs": [],
   "source": [
    "from collections import deque, Counter, OrderedDict\n"
   ]
  },
  {
   "cell_type": "code",
   "execution_count": 6,
   "metadata": {},
   "outputs": [],
   "source": [
    "class Node:\n",
    "    def __init__(self, data=\"\") -> None:\n",
    "        self.left = None\n",
    "        self.right = None\n",
    "        self.data = data"
   ]
  },
  {
   "cell_type": "code",
   "execution_count": 18,
   "metadata": {},
   "outputs": [],
   "source": [
    "class BTree:\n",
    "    def __init__(self):\n",
    "        self.root = None\n",
    "\n",
    "    def insert_node(self, data):\n",
    "        self.root = self.__insert(self.root, data)\n",
    "    \n",
    "    def __insert(self, root, data):\n",
    "        if root is None:\n",
    "            return Node(data=data)\n",
    "        else:\n",
    "            if data < root.data:\n",
    "                root.left = self.__insert(root.left, data=data)\n",
    "            else:\n",
    "                root.right = self.__insert(root.right, data=data)\n",
    "        return root\n",
    "    \n",
    "    def search_node(self, search_key=0):\n",
    "        return self.__search_node(self.root, search_key=search_key)\n",
    "    \n",
    "    def __search_node(self, root, search_key=0):\n",
    "        if not root:\n",
    "            return None\n",
    "        if root.data==search_key:\n",
    "            return root\n",
    "        elif root.data<search_key:\n",
    "            return self.__search_node(root.right, search_key=search_key)\n",
    "        else:\n",
    "            return self.__search_node(root.left, search_key=search_key)\n",
    "    \n",
    "    def delete_node(self, delete_data=None):\n",
    "        if delete_data is None:\n",
    "            print(\"Data not provided\")\n",
    "        root = self.search_node(search_key=delete_data)\n",
    "        if not root:\n",
    "            print(\"Data node does not exists in Tree.\")\n",
    "        else:\n",
    "            self.__delete_node(root)\n",
    "    \n",
    "    def __delete_node(self, root):\n",
    "        # Either search largest node in left subtree and make it root\n",
    "        # or search smallest node in right sub tree and make it root.\n",
    "        if root.left:\n",
    "            # Search largest node in left sub tree.\n",
    "            temp_root = root.left\n",
    "            while(temp_root.right):\n",
    "                temp_root = temp_root.right\n",
    "            # current node is largest in left sub tree.\n",
    "            root.data = temp_root.data\n",
    "            self.__delete_node(temp_root)\n",
    "        elif root.right:\n",
    "            # Search smallest node in right sub tree.\n",
    "            temp_root = root.right\n",
    "            while(temp_root.left):\n",
    "                temp_root = temp_root.left\n",
    "            # current node is smallest in right sub tree.\n",
    "            root.data = temp_root.data\n",
    "            self.__delete_node(temp_root)\n",
    "        else:\n",
    "            # current node is child node.\n",
    "            root = None\n",
    "\n",
    "    def print_tree(self, order='in_order'):\n",
    "        print(f\"Printing Tree in {order}\")\n",
    "        if order=='pre_order':\n",
    "            self.__print_preorder(self.root)\n",
    "        elif order=='in_order':\n",
    "            self.__print_inorder(self.root)\n",
    "        elif order=='post_order':\n",
    "            self.__print_postorder(self.root)\n",
    "        elif order in ['level_order', 'bfs']:\n",
    "            self.__print_level_order(self.root)\n",
    "        elif order in ['dfs']:\n",
    "            self.__print_dfs(self.root)\n",
    "        else:\n",
    "            print(\"Order not found\")\n",
    "        print()\n",
    "    \n",
    "    def __print_preorder(self, root):\n",
    "        if root is None:\n",
    "            return\n",
    "        print(root.data, end=' ')\n",
    "        self.__print_preorder(root.left)\n",
    "        self.__print_preorder(root.right)\n",
    "    \n",
    "    def __print_inorder(self, root):\n",
    "        if root is None:\n",
    "            return\n",
    "        self.__print_inorder(root.left)\n",
    "        print(root.data, end= ' ')\n",
    "        self.__print_inorder(root.right)\n",
    "    \n",
    "    def __print_postorder(self, root):\n",
    "        if root is None:\n",
    "            return\n",
    "        self.__print_postorder(root.left)\n",
    "        self.__print_postorder(root.right)\n",
    "        print(root.data, end=' ')\n",
    "    \n",
    "    def __print_level_order(self, root):\n",
    "        # Initialize a queue.\n",
    "        queue = deque()\n",
    "        # insert first node in queue\n",
    "        queue.append(root)\n",
    "        while queue:\n",
    "            # visit the first node in queue.\n",
    "            visit_node = queue.popleft()\n",
    "            print(visit_node.data, end = ' ')\n",
    "            # add all child nodes in queue.\n",
    "            if visit_node.left:\n",
    "                queue.append(visit_node.left)\n",
    "            if visit_node.right:\n",
    "                queue.append(visit_node.right)    \n",
    "    \n",
    "    def __print_dfs(self, root):\n",
    "        # Initialize a stack.\n",
    "        stack = list()\n",
    "        # insert root node in stack\n",
    "        stack.append(root)\n",
    "        while stack:\n",
    "            # visit the  last inserted node in stack.\n",
    "            visit_node = stack.pop()\n",
    "            print(visit_node.data, end = ' ')\n",
    "            # add all child nodes in stack.\n",
    "            if visit_node.left:\n",
    "                stack.append(visit_node.left)\n",
    "            if visit_node.right:\n",
    "                stack.append(visit_node.right)    "
   ]
  },
  {
   "cell_type": "code",
   "execution_count": 19,
   "metadata": {},
   "outputs": [],
   "source": [
    "tree = BTree()"
   ]
  },
  {
   "cell_type": "code",
   "execution_count": 20,
   "metadata": {},
   "outputs": [],
   "source": [
    "for num in [8, 4, 12, 2, 6, 10, 14, 1, 3, 7, 5, 19, 9, 15, 13]:\n",
    "    tree.insert_node(num)"
   ]
  },
  {
   "cell_type": "code",
   "execution_count": 21,
   "metadata": {},
   "outputs": [
    {
     "name": "stdout",
     "output_type": "stream",
     "text": [
      "Printing Tree in level_order\n",
      "8 4 12 2 6 10 14 1 3 5 7 9 13 19 15 \n"
     ]
    }
   ],
   "source": [
    "tree.print_tree(order='level_order')"
   ]
  },
  {
   "cell_type": "code",
   "execution_count": 22,
   "metadata": {},
   "outputs": [
    {
     "name": "stdout",
     "output_type": "stream",
     "text": [
      "Printing Tree in dfs\n",
      "8 12 14 19 15 13 10 9 4 6 7 5 2 3 1 \n"
     ]
    }
   ],
   "source": [
    "tree.print_tree(order='dfs')"
   ]
  },
  {
   "cell_type": "code",
   "execution_count": 23,
   "metadata": {},
   "outputs": [],
   "source": [
    "# Get height of tree.\n",
    "def tree_height(root):\n",
    "    if not root:\n",
    "        return 0\n",
    "    else:\n",
    "        return max(tree_height(root.left), tree_height(root.right)) + 1\n",
    "    \n"
   ]
  },
  {
   "cell_type": "code",
   "execution_count": 24,
   "metadata": {},
   "outputs": [
    {
     "data": {
      "text/plain": [
       "5"
      ]
     },
     "execution_count": 24,
     "metadata": {},
     "output_type": "execute_result"
    }
   ],
   "source": [
    "tree_height(tree.root)"
   ]
  },
  {
   "cell_type": "code",
   "execution_count": 26,
   "metadata": {},
   "outputs": [],
   "source": [
    "def tree_width(root, w=0, max_w=[0, 0]):\n",
    "    if not root:\n",
    "        return max_w\n",
    "\n",
    "    if w < max_w[0]:\n",
    "        max_w[0] = w\n",
    "    elif w > max_w[1]:\n",
    "        max_w[1] = w\n",
    "\n",
    "    max_w = tree_width(root.left, w - 1, max_w)\n",
    "    max_w = tree_width(root.right, w + 1, max_w)\n",
    "\n",
    "    return max_w\n"
   ]
  },
  {
   "cell_type": "code",
   "execution_count": 27,
   "metadata": {},
   "outputs": [
    {
     "data": {
      "text/plain": [
       "[-3, 3]"
      ]
     },
     "execution_count": 27,
     "metadata": {},
     "output_type": "execute_result"
    }
   ],
   "source": [
    "tree_width(tree.root)"
   ]
  },
  {
   "cell_type": "code",
   "execution_count": 28,
   "metadata": {},
   "outputs": [
    {
     "data": {
      "text/plain": [
       "5"
      ]
     },
     "execution_count": 28,
     "metadata": {},
     "output_type": "execute_result"
    }
   ],
   "source": [
    "tree.search_node(5).data"
   ]
  },
  {
   "cell_type": "code",
   "execution_count": 29,
   "metadata": {},
   "outputs": [],
   "source": [
    "def print_top_down_bst(root):\n",
    "    if not root:\n",
    "        return\n",
    "\n",
    "    # Using a queue for level-order traversal\n",
    "    queue = [root]\n",
    "\n",
    "    while queue:\n",
    "        level_size = len(queue)\n",
    "\n",
    "        for i in range(level_size):\n",
    "            node = queue.pop(0)\n",
    "            if node:\n",
    "                print(node.data, end=' ')\n",
    "                if node.left:\n",
    "                    queue.append(node.left)\n",
    "                if node.right:\n",
    "                    queue.append(node.right)\n",
    "            else:\n",
    "                print(' ', end=' ')\n",
    "\n",
    "        print()  # Move to the next line for the next level"
   ]
  },
  {
   "cell_type": "code",
   "execution_count": 30,
   "metadata": {},
   "outputs": [
    {
     "name": "stdout",
     "output_type": "stream",
     "text": [
      "8 \n",
      "4 12 \n",
      "2 6 10 14 \n",
      "1 3 5 7 9 13 19 \n",
      "15 \n"
     ]
    }
   ],
   "source": [
    "print_top_down_bst(tree.root)"
   ]
  },
  {
   "cell_type": "code",
   "execution_count": null,
   "metadata": {},
   "outputs": [],
   "source": []
  }
 ],
 "metadata": {
  "kernelspec": {
   "display_name": "Python 3",
   "language": "python",
   "name": "python3"
  },
  "language_info": {
   "codemirror_mode": {
    "name": "ipython",
    "version": 3
   },
   "file_extension": ".py",
   "mimetype": "text/x-python",
   "name": "python",
   "nbconvert_exporter": "python",
   "pygments_lexer": "ipython3",
   "version": "3.10.12"
  }
 },
 "nbformat": 4,
 "nbformat_minor": 2
}
