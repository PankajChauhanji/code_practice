{
 "cells": [
  {
   "cell_type": "code",
   "execution_count": 1,
   "metadata": {},
   "outputs": [],
   "source": [
    "from collections import deque, Counter, OrderedDict"
   ]
  },
  {
   "cell_type": "code",
   "execution_count": 2,
   "metadata": {},
   "outputs": [],
   "source": [
    "class Node:\n",
    "    def __init__(self, data=\"\") -> None:\n",
    "        self.left = None\n",
    "        self.right = None\n",
    "        self.data = data"
   ]
  },
  {
   "cell_type": "code",
   "execution_count": 3,
   "metadata": {},
   "outputs": [],
   "source": [
    "class BTree:\n",
    "    def __init__(self):\n",
    "        # Initialize the binary tree with an empty root.\n",
    "        self.root = None\n",
    "\n",
    "    def insert_node(self, data):\n",
    "        # Public method to insert a node with given data.\n",
    "        # Calls the recursive __insert method to place the node correctly.\n",
    "        self.root = self.__insert(self.root, data)\n",
    "    \n",
    "    def __insert(self, root, data):\n",
    "        # Private recursive method to insert a new node into the tree.\n",
    "        # If root is None, create a new node.\n",
    "        if root is None:\n",
    "            return Node(data=data)\n",
    "        else:\n",
    "            # If data is less than the current node, insert it into the left subtree.\n",
    "            if data < root.data:\n",
    "                root.left = self.__insert(root.left, data=data)\n",
    "            # If data is greater than or equal to current node, insert into right subtree.\n",
    "            else:\n",
    "                root.right = self.__insert(root.right, data=data)\n",
    "        return root\n",
    "    \n",
    "    def search_node(self, search_key=0):\n",
    "        # Public method to search for a node with the given key.\n",
    "        return self.__search_node(self.root, search_key=search_key)\n",
    "    \n",
    "    def __search_node(self, root, search_key=0):\n",
    "        # Private recursive method to search for a node in the tree.\n",
    "        # If root is None, return None (key not found).\n",
    "        if not root:\n",
    "            return None\n",
    "        # If the current node's data matches the search key, return the node.\n",
    "        if root.data == search_key:\n",
    "            return root\n",
    "        # If the search key is greater, search the right subtree.\n",
    "        elif root.data < search_key:\n",
    "            return self.__search_node(root.right, search_key=search_key)\n",
    "        # Otherwise, search the left subtree.\n",
    "        else:\n",
    "            return self.__search_node(root.left, search_key=search_key)\n",
    "    \n",
    "    def delete_node(self, delete_data=None):\n",
    "        # Public method to delete a node with the given data.\n",
    "        # First, search for the node with the provided key.\n",
    "        if delete_data is None:\n",
    "            print(\"Data not provided\")\n",
    "        root = self.search_node(search_key=delete_data)\n",
    "        # If node is not found, print an error message.\n",
    "        if not root:\n",
    "            print(\"Data node does not exist in Tree.\")\n",
    "        else:\n",
    "            # Otherwise, call the private method to delete the node.\n",
    "            self.__delete_node(root)\n",
    "    \n",
    "    def __delete_node(self, root):\n",
    "        # Private method to delete the given node from the tree.\n",
    "        # Either search largest node in left subtree and make it root\n",
    "        # or search smallest node in right subtree and make it root.\n",
    "        if root.left:\n",
    "            # Search largest node in left subtree.\n",
    "            temp_root = root.left\n",
    "            while temp_root.right:\n",
    "                temp_root = temp_root.right\n",
    "            # Current node is largest in left subtree.\n",
    "            root.data = temp_root.data\n",
    "            self.__delete_node(temp_root)\n",
    "        elif root.right:\n",
    "            # Search smallest node in right subtree.\n",
    "            temp_root = root.right\n",
    "            while temp_root.left:\n",
    "                temp_root = temp_root.left\n",
    "            # Current node is smallest in right subtree.\n",
    "            root.data = temp_root.data\n",
    "            self.__delete_node(temp_root)\n",
    "        else:\n",
    "            # Current node is a leaf (no children).\n",
    "            root = None\n",
    "\n",
    "    def print_tree(self, order='in_order'):\n",
    "        # Public method to print the tree in the specified order.\n",
    "        print(f\"Printing Tree in {order}\")\n",
    "        if order == 'pre_order':\n",
    "            self.__print_preorder(self.root)\n",
    "        elif order == 'in_order':\n",
    "            self.__print_inorder(self.root)\n",
    "        elif order == 'post_order':\n",
    "            self.__print_postorder(self.root)\n",
    "        elif order in ['level_order', 'bfs']:\n",
    "            self.__print_level_order(self.root)\n",
    "        elif order in ['dfs']:\n",
    "            self.__print_dfs(self.root)\n",
    "        else:\n",
    "            print(\"Order not found\")\n",
    "        print()\n",
    "    \n",
    "    def __print_preorder(self, root):\n",
    "        # Private method to print the tree in pre-order traversal.\n",
    "        if root is None:\n",
    "            return\n",
    "        # Visit the root node first.\n",
    "        print(root.data, end=' ')\n",
    "        # Recursively print the left and right subtrees.\n",
    "        self.__print_preorder(root.left)\n",
    "        self.__print_preorder(root.right)\n",
    "    \n",
    "    def __print_inorder(self, root):\n",
    "        # Private method to print the tree in in-order traversal.\n",
    "        if root is None:\n",
    "            return\n",
    "        # Recursively print the left subtree, then the root, then the right subtree.\n",
    "        self.__print_inorder(root.left)\n",
    "        print(root.data, end=' ')\n",
    "        self.__print_inorder(root.right)\n",
    "    \n",
    "    def __print_postorder(self, root):\n",
    "        # Private method to print the tree in post-order traversal.\n",
    "        if root is None:\n",
    "            return\n",
    "        # Recursively print the left and right subtrees, then visit the root node.\n",
    "        self.__print_postorder(root.left)\n",
    "        self.__print_postorder(root.right)\n",
    "        print(root.data, end=' ')\n",
    "    \n",
    "    def __print_level_order(self, root):\n",
    "        # Private method to print the tree in level-order traversal (BFS).\n",
    "        # Initialize a queue to track nodes at each level.\n",
    "        queue = deque()\n",
    "        # Insert the root node into the queue.\n",
    "        queue.append(root)\n",
    "        while queue:\n",
    "            # Visit the first node in the queue.\n",
    "            visit_node = queue.popleft()\n",
    "            print(visit_node.data, end=' ')\n",
    "            # Add the left and right children (if they exist) to the queue.\n",
    "            if visit_node.left:\n",
    "                queue.append(visit_node.left)\n",
    "            if visit_node.right:\n",
    "                queue.append(visit_node.right)   \n",
    "    \n",
    "    def __print_dfs(self, root):\n",
    "        # Private method to print the tree in depth-first search (DFS) order.\n",
    "        # Initialize a stack for DFS traversal.\n",
    "        stack = list()\n",
    "        # Insert the root node into the stack.\n",
    "        stack.append(root)\n",
    "        while stack:\n",
    "            # Visit the most recently added node in the stack.\n",
    "            visit_node = stack.pop()\n",
    "            print(visit_node.data, end=' ')\n",
    "            # Add the left and right children (if they exist) to the stack.\n",
    "            if visit_node.left:\n",
    "                stack.append(visit_node.left)\n",
    "            if visit_node.right:\n",
    "                stack.append(visit_node.right)\n"
   ]
  },
  {
   "cell_type": "code",
   "execution_count": 5,
   "metadata": {},
   "outputs": [],
   "source": [
    "tree = BTree()"
   ]
  },
  {
   "cell_type": "code",
   "execution_count": null,
   "metadata": {},
   "outputs": [],
   "source": []
  },
  {
   "cell_type": "code",
   "execution_count": 6,
   "metadata": {},
   "outputs": [],
   "source": [
    "for num in [8, 4, 12, 2, 6, 10, 14, 1, 3, 7, 5, 19, 9, 15, 13]:\n",
    "    tree.insert_node(num)"
   ]
  },
  {
   "cell_type": "code",
   "execution_count": 9,
   "metadata": {},
   "outputs": [
    {
     "name": "stdout",
     "output_type": "stream",
     "text": [
      "Printing Tree in bfs\n",
      "8 4 12 2 6 10 14 1 3 5 7 9 13 19 15 \n"
     ]
    }
   ],
   "source": [
    "tree.print_tree(order='bfs')"
   ]
  },
  {
   "cell_type": "code",
   "execution_count": 22,
   "metadata": {},
   "outputs": [
    {
     "name": "stdout",
     "output_type": "stream",
     "text": [
      "Printing Tree in dfs\n",
      "8 12 14 19 15 13 10 9 4 6 7 5 2 3 1 \n"
     ]
    }
   ],
   "source": [
    "tree.print_tree(order='dfs')"
   ]
  },
  {
   "cell_type": "code",
   "execution_count": 23,
   "metadata": {},
   "outputs": [],
   "source": [
    "# Get height of tree.\n",
    "def tree_height(root):\n",
    "    if not root:\n",
    "        return 0\n",
    "    else:\n",
    "        return max(tree_height(root.left), tree_height(root.right)) + 1\n",
    "    \n"
   ]
  },
  {
   "cell_type": "code",
   "execution_count": 24,
   "metadata": {},
   "outputs": [
    {
     "data": {
      "text/plain": [
       "5"
      ]
     },
     "execution_count": 24,
     "metadata": {},
     "output_type": "execute_result"
    }
   ],
   "source": [
    "tree_height(tree.root)"
   ]
  },
  {
   "cell_type": "code",
   "execution_count": 26,
   "metadata": {},
   "outputs": [],
   "source": [
    "def tree_width(root, w=0, max_w=[0, 0]):\n",
    "    if not root:\n",
    "        return max_w\n",
    "\n",
    "    if w < max_w[0]:\n",
    "        max_w[0] = w\n",
    "    elif w > max_w[1]:\n",
    "        max_w[1] = w\n",
    "\n",
    "    max_w = tree_width(root.left, w - 1, max_w)\n",
    "    max_w = tree_width(root.right, w + 1, max_w)\n",
    "\n",
    "    return max_w\n"
   ]
  },
  {
   "cell_type": "code",
   "execution_count": 27,
   "metadata": {},
   "outputs": [
    {
     "data": {
      "text/plain": [
       "[-3, 3]"
      ]
     },
     "execution_count": 27,
     "metadata": {},
     "output_type": "execute_result"
    }
   ],
   "source": [
    "tree_width(tree.root)"
   ]
  },
  {
   "cell_type": "code",
   "execution_count": 28,
   "metadata": {},
   "outputs": [
    {
     "data": {
      "text/plain": [
       "5"
      ]
     },
     "execution_count": 28,
     "metadata": {},
     "output_type": "execute_result"
    }
   ],
   "source": [
    "tree.search_node(5).data"
   ]
  },
  {
   "cell_type": "code",
   "execution_count": 29,
   "metadata": {},
   "outputs": [],
   "source": [
    "def print_top_down_bst(root):\n",
    "    if not root:\n",
    "        return\n",
    "\n",
    "    # Using a queue for level-order traversal\n",
    "    queue = [root]\n",
    "\n",
    "    while queue:\n",
    "        level_size = len(queue)\n",
    "\n",
    "        for i in range(level_size):\n",
    "            node = queue.pop(0)\n",
    "            if node:\n",
    "                print(node.data, end=' ')\n",
    "                if node.left:\n",
    "                    queue.append(node.left)\n",
    "                if node.right:\n",
    "                    queue.append(node.right)\n",
    "            else:\n",
    "                print(' ', end=' ')\n",
    "\n",
    "        print()  # Move to the next line for the next level"
   ]
  },
  {
   "cell_type": "code",
   "execution_count": 30,
   "metadata": {},
   "outputs": [
    {
     "name": "stdout",
     "output_type": "stream",
     "text": [
      "8 \n",
      "4 12 \n",
      "2 6 10 14 \n",
      "1 3 5 7 9 13 19 \n",
      "15 \n"
     ]
    }
   ],
   "source": [
    "print_top_down_bst(tree.root)"
   ]
  },
  {
   "cell_type": "code",
   "execution_count": null,
   "metadata": {},
   "outputs": [],
   "source": []
  }
 ],
 "metadata": {
  "kernelspec": {
   "display_name": "Python 3",
   "language": "python",
   "name": "python3"
  },
  "language_info": {
   "codemirror_mode": {
    "name": "ipython",
    "version": 3
   },
   "file_extension": ".py",
   "mimetype": "text/x-python",
   "name": "python",
   "nbconvert_exporter": "python",
   "pygments_lexer": "ipython3",
   "version": "3.10.12"
  }
 },
 "nbformat": 4,
 "nbformat_minor": 2
}
