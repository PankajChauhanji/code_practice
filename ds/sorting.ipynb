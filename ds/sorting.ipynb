{
 "cells": [
  {
   "cell_type": "code",
   "execution_count": null,
   "metadata": {},
   "outputs": [],
   "source": [
    "\"\"\"\n",
    "Bubble Sort \n",
    "Bubble Sort is a simple sorting algorithm that repeatedly iterates through the list,\n",
    "compares adjacent elements, and swaps them if they are in the wrong order. \n",
    "list iteration is repeated until the list is sorted.\n",
    "\"\"\"\n",
    "def bubble_sort(elements):\n",
    "    # Iterate through each element in the list\n",
    "    for i in range(len(elements)):\n",
    "        # Flag to check if any swaps are made in this iteration\n",
    "        found_swap = False\n",
    "        # Compare and swap adjacent elements if they are in the wrong order\n",
    "        for j in range(len(elements) - 1):\n",
    "            if elements[j] > elements[j + 1]:\n",
    "                # Swap elements\n",
    "                elements[j], elements[j+1] = elements[j+1], elements[j]\n",
    "                found_swap = True\n",
    "\n",
    "        # If no swaps were made in this iteration, the list is already sorted\n",
    "        if not found_swap:\n",
    "            print(f'Found swap in {i + 1} iterations out of {len(elements)}.')\n",
    "            break\n",
    "\n",
    "    return elements\n",
    "\n",
    "# Example usage\n",
    "elements = [4, 6, 1, 10, 3, 0, 15, -2, 13, 21, 6, 8, 2]\n",
    "sorted_elements = bubble_sort(elements.copy())\n",
    "print(f'Before: {elements}\\nAfter: {sorted_elements}')"
   ]
  },
  {
   "cell_type": "code",
   "execution_count": null,
   "metadata": {},
   "outputs": [],
   "source": [
    "\"\"\"\n",
    "Selection Sort:\n",
    "We repeatedly selects the minimum element from the unsorted part of the array and puts it at the beginning.\n",
    "\"\"\"\n",
    "\n",
    "def selection_sort(elements):\n",
    "    # Iterate through all elements\n",
    "    for i in range(len(elements)):\n",
    "        # Assume the current index is the minimum\n",
    "        min_element = elements[i]\n",
    "\n",
    "        # Check the rest of the array for a smaller element\n",
    "        for j in range(i + 1, len(elements)):\n",
    "            if elements[j] < min_element:\n",
    "                # Swap if a smaller element is found\n",
    "                elements[j], min_element = min_element, elements[j]\n",
    "\n",
    "        # Place the minimum element at the correct position\n",
    "        elements[i] = min_element\n",
    "\n",
    "    return elements\n",
    "\n",
    "\n",
    "# Example usage\n",
    "elements = [4, 6, 1, 10, 3, 0, 15, -2, 13, 21, 6, 8, 2]\n",
    "sorted_elements = selection_sort(elements.copy())\n",
    "print(f'Before: {elements}\\nAfter: {sorted_elements}')"
   ]
  },
  {
   "cell_type": "code",
   "execution_count": null,
   "metadata": {},
   "outputs": [],
   "source": [
    "\"\"\"\n",
    "Insertion Sort:\n",
    "We interate from start to end in an list and we try to insert current element at correct position\n",
    "by shifting all elements.\n",
    "\"\"\"\n",
    "def insertion_sort(elements):\n",
    "    # Iterate through all elements\n",
    "    for i in range(len(elements)):\n",
    "        # Insert the current element at the correct position\n",
    "        for j in range(i, 0, -1):\n",
    "            if elements[j] < elements[j-1]:\n",
    "                # Swap if a smaller element is found\n",
    "                elements[j], elements[j-1] = elements[j-1], elements[j]\n",
    "            else:\n",
    "                break\n",
    "\n",
    "    return elements\n",
    "\n",
    "elements = [4, 6, 1, 10, 3, 0, 15, -2, 13, 21, 6, 8, 2]\n",
    "sorted_elements = insertion_sort(elements.copy())\n",
    "print(f'Before: {elements}\\nAfter: {sorted_elements}')"
   ]
  },
  {
   "cell_type": "code",
   "execution_count": null,
   "metadata": {},
   "outputs": [],
   "source": [
    "\"\"\"\n",
    "Merge Sort:\n",
    "Merge Sort is a divide-and-conquer sorting algorithm. It divides the array into\n",
    "two halves, recursively sorts each half, and then merges them back together.\n",
    "\"\"\"\n",
    "\n",
    "def merge_sorted_list(left, right):\n",
    "    merged = []\n",
    "    left_index = right_index = 0\n",
    "\n",
    "    # Compare elements and merge into a sorted list\n",
    "    while left_index < len(left) and right_index < len(right):\n",
    "        if left[left_index] < right[right_index]:\n",
    "            merged.append(left[left_index])\n",
    "            left_index += 1\n",
    "        else:\n",
    "            merged.append(right[right_index])\n",
    "            right_index += 1\n",
    "\n",
    "    # Add all the remaining elements\n",
    "    merged.extend(left[left_index:])\n",
    "    merged.extend(right[right_index:])\n",
    "\n",
    "    return merged\n",
    "\n",
    "def merge_sort(elements):\n",
    "    if len(elements) <= 1:\n",
    "        return elements\n",
    "\n",
    "    mid = len(elements) // 2\n",
    "\n",
    "    # Divide the list into two half left and right halves\n",
    "    left_half = merge_sort(elements[:mid])\n",
    "    right_half = merge_sort(elements[mid:])\n",
    "\n",
    "    # Merge the both left and right half\n",
    "    return merge_sorted_list(left_half, right_half)\n",
    "\n",
    "elements = [4, 6, 1, 10, 3, 0, 15, -2, 13, 21, 6, 8, 2]\n",
    "sorted_elements = merge_sort(elements.copy())\n",
    "print(f'Before: {elements}\\nAfter: {sorted_elements}')\n"
   ]
  },
  {
   "cell_type": "code",
   "execution_count": null,
   "metadata": {},
   "outputs": [],
   "source": [
    "\"\"\"\n",
    "Quick Sort:\n",
    "Quick Sort is a divide-and-conquer sorting algorithm. It works by selecting\n",
    "a 'pivot' element from the array and partitioning the other elements into\n",
    "two sub-arrays according to whether they are less than or greater than the pivot.\n",
    "The sub-arrays are then sorted recursively.\n",
    "\"\"\"\n",
    "\n",
    "def quick_sort(elements):\n",
    "    if len(elements) <= 1:\n",
    "        return elements\n",
    "\n",
    "    # Choose a pivot element (using the last element in this case)\n",
    "    pivot = elements[len(elements)//2]\n",
    "\n",
    "    # Partition the array into elements smaller than pivot, equal to pivot, and greater than pivot\n",
    "    smaller = [elem for elem in elements if elem < pivot]\n",
    "    equal = [elem for elem in elements if elem == pivot]\n",
    "    greater = [elem for elem in elements if elem > pivot]\n",
    "\n",
    "    # Recursively sort the smaller and greater sub-arrays and concatenate them\n",
    "    return quick_sort(smaller) + equal + quick_sort(greater)\n",
    "\n",
    "elements = [4, 6, 1, 10, 3, 0, 15, -2, 13, 21, 6, 8, 2]\n",
    "sorted_elements = quick_sort(elements.copy())\n",
    "print(f'Before: {elements}\\nAfter: {sorted_elements}')\n"
   ]
  },
  {
   "cell_type": "code",
   "execution_count": 8,
   "metadata": {},
   "outputs": [
    {
     "name": "stdout",
     "output_type": "stream",
     "text": [
      "Before: [4, 6, 1, 10, 3, 0, 15, -2, 13, 21, 6, 8, 2]\n",
      "After: [-2, 0, 1, 2, 3, 4, 6, 6, 8, 10, 13, 15, 21]\n"
     ]
    }
   ],
   "source": [
    "\"\"\"\n",
    "Quick Sort:\n",
    "Overview:\n",
    "Quick Sort is a divide-and-conquer sorting algorithm. It works by selecting\n",
    "a 'pivot' element from the array and partitioning the other elements into\n",
    "two sub-arrays according to whether they are less than or greater than the pivot.\n",
    "The sub-arrays are then sorted recursively.\n",
    "\"\"\"\n",
    "\n",
    "def partition(elements, start, end):\n",
    "    pivot = elements[end]\n",
    "    pivot_index = start\n",
    "    \n",
    "    # Traverse the sublist and rearrange elements based on the pivot\n",
    "    for i in range(start, end):\n",
    "        if elements[i] <= pivot:\n",
    "            elements[i], elements[pivot_index] = elements[pivot_index], elements[i]\n",
    "            pivot_index += 1\n",
    "    \n",
    "    # Swap the pivot element into its correct position\n",
    "    elements[pivot_index], elements[end] = elements[end], elements[pivot_index]\n",
    "    \n",
    "    return pivot_index\n",
    "\n",
    "def quick_sort(elements, start=None, end=None):\n",
    "    if start is None:\n",
    "        start = 0\n",
    "    if end is None:\n",
    "        end = len(elements) - 1\n",
    "    \n",
    "    if start < end:\n",
    "        # Partition the array and get the index of the pivot element\n",
    "        pivot_index = partition(elements, start, end)\n",
    "        \n",
    "        # Recursively sort the sublists on either side of the pivot\n",
    "        quick_sort(elements, start, pivot_index - 1)\n",
    "        quick_sort(elements, pivot_index + 1, end)\n",
    "    \n",
    "    return elements\n",
    "\n",
    "elements = [4, 6, 1, 10, 3, 0, 15, -2, 13, 21, 6, 8, 2]\n",
    "sorted_elements = quick_sort(elements.copy())\n",
    "print(f'Before: {elements}\\nAfter: {sorted_elements}')"
   ]
  },
  {
   "cell_type": "code",
   "execution_count": 10,
   "metadata": {},
   "outputs": [
    {
     "data": {
      "text/plain": [
       "[15]"
      ]
     },
     "execution_count": 10,
     "metadata": {},
     "output_type": "execute_result"
    }
   ],
   "source": [
    "nums = [1, 4, 15, 9, 3]\n",
    "nums = [num for num in nums if num//10>=1]\n",
    "nums"
   ]
  },
  {
   "cell_type": "code",
   "execution_count": 13,
   "metadata": {},
   "outputs": [
    {
     "data": {
      "text/plain": [
       "9"
      ]
     },
     "execution_count": 13,
     "metadata": {},
     "output_type": "execute_result"
    }
   ],
   "source": [
    "abs(sum(nums) - sum(sum(int(n) for n in str(num)) for num in nums))"
   ]
  },
  {
   "cell_type": "code",
   "execution_count": 11,
   "metadata": {},
   "outputs": [
    {
     "data": {
      "text/plain": [
       "['15']"
      ]
     },
     "execution_count": 11,
     "metadata": {},
     "output_type": "execute_result"
    }
   ],
   "source": [
    "str(15).split()"
   ]
  },
  {
   "cell_type": "code",
   "execution_count": 1,
   "metadata": {},
   "outputs": [
    {
     "name": "stdout",
     "output_type": "stream",
     "text": [
      "[['eat', 'tea', 'ate'], ['tan', 'nat'], ['bat']]\n"
     ]
    }
   ],
   "source": [
    "from collections import defaultdict\n",
    "\n",
    "def groupAnagrams(strs):\n",
    "    grouped_anagrams = defaultdict(list)\n",
    "    \n",
    "    for word in strs:\n",
    "        # Sort the characters of the word to form a key\n",
    "        sorted_word = ''.join(sorted(word))\n",
    "        # Add the word to the list corresponding to its sorted form\n",
    "        grouped_anagrams[sorted_word].append(word)\n",
    "    \n",
    "    # Convert the values of the hashmap to lists and return\n",
    "    return list(grouped_anagrams.values())\n",
    "\n",
    "# Example usage\n",
    "strs = [\"eat\", \"tea\", \"tan\", \"ate\", \"nat\", \"bat\"]\n",
    "print(groupAnagrams(strs))\n"
   ]
  },
  {
   "cell_type": "code",
   "execution_count": null,
   "metadata": {},
   "outputs": [],
   "source": []
  },
  {
   "cell_type": "code",
   "execution_count": 2,
   "metadata": {},
   "outputs": [],
   "source": [
    "value_ = defaultdict(tuple)"
   ]
  },
  {
   "cell_type": "code",
   "execution_count": 5,
   "metadata": {},
   "outputs": [],
   "source": [
    "value_[(12, 23)] = (1, 2, 3)"
   ]
  },
  {
   "cell_type": "code",
   "execution_count": 6,
   "metadata": {},
   "outputs": [
    {
     "data": {
      "text/plain": [
       "defaultdict(tuple, {12: (1, 2, 3), (12, 23): (1, 2, 3)})"
      ]
     },
     "execution_count": 6,
     "metadata": {},
     "output_type": "execute_result"
    }
   ],
   "source": [
    "value_"
   ]
  },
  {
   "cell_type": "code",
   "execution_count": null,
   "metadata": {},
   "outputs": [],
   "source": []
  }
 ],
 "metadata": {
  "kernelspec": {
   "display_name": "Python 3",
   "language": "python",
   "name": "python3"
  },
  "language_info": {
   "codemirror_mode": {
    "name": "ipython",
    "version": 3
   },
   "file_extension": ".py",
   "mimetype": "text/x-python",
   "name": "python",
   "nbconvert_exporter": "python",
   "pygments_lexer": "ipython3",
   "version": "3.10.12"
  }
 },
 "nbformat": 4,
 "nbformat_minor": 2
}
