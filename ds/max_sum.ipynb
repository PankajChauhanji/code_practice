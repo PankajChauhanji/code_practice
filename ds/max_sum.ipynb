{
 "cells": [
  {
   "cell_type": "code",
   "execution_count": 1,
   "metadata": {},
   "outputs": [],
   "source": [
    "# Finding maximum sub sequence of an array."
   ]
  },
  {
   "cell_type": "code",
   "execution_count": 5,
   "metadata": {},
   "outputs": [],
   "source": [
    "def max_sum_brute_force(numbers):\n",
    "    start_indx = 0; end_index = len(numbers)-1\n",
    "    max_sum = -1*float('inf')\n",
    "    for i in range(len(numbers)):\n",
    "        local_sum = numbers[i]\n",
    "        for j in range(i+1, len(numbers)):\n",
    "            local_sum += numbers[j]\n",
    "            if local_sum > max_sum:\n",
    "                start_indx = i\n",
    "                end_index = j\n",
    "                max_sum = local_sum\n",
    "    return max_sum, start_indx, end_index"
   ]
  },
  {
   "cell_type": "code",
   "execution_count": 8,
   "metadata": {},
   "outputs": [
    {
     "data": {
      "text/plain": [
       "(17, 2, 8)"
      ]
     },
     "execution_count": 8,
     "metadata": {},
     "output_type": "execute_result"
    }
   ],
   "source": [
    "array = [2, -3, 1, 7, -4, 8, 2, -1, 4, -1, 0, -2, 2]\n",
    "max_sum_brute_force(array)"
   ]
  },
  {
   "cell_type": "code",
   "execution_count": null,
   "metadata": {},
   "outputs": [],
   "source": []
  }
 ],
 "metadata": {
  "kernelspec": {
   "display_name": "Python 3",
   "language": "python",
   "name": "python3"
  },
  "language_info": {
   "codemirror_mode": {
    "name": "ipython",
    "version": 3
   },
   "file_extension": ".py",
   "mimetype": "text/x-python",
   "name": "python",
   "nbconvert_exporter": "python",
   "pygments_lexer": "ipython3",
   "version": "3.10.12"
  }
 },
 "nbformat": 4,
 "nbformat_minor": 2
}
